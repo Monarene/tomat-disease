{
 "cells": [
  {
   "cell_type": "code",
   "execution_count": 4,
   "metadata": {},
   "outputs": [
    {
     "name": "stdout",
     "output_type": "stream",
     "text": [
      "Requirement already satisfied: wrapt in /home/michael/anaconda3/lib/python3.7/site-packages (1.10.11)\r\n"
     ]
    }
   ],
   "source": [
    "#!pip install --upgrade tensorflow\n",
    "#!pip install keras\n",
    "#!pip install --upgrade pip\n",
    "#!conda update wrapt --yes\n",
    "!pip install wrapt"
   ]
  },
  {
   "cell_type": "code",
   "execution_count": 1,
   "metadata": {},
   "outputs": [
    {
     "name": "stderr",
     "output_type": "stream",
     "text": [
      "/home/michael/anaconda3/envs/tensorlow-gpu/lib/python3.7/site-packages/tensorflow/python/framework/dtypes.py:516: FutureWarning: Passing (type, 1) or '1type' as a synonym of type is deprecated; in a future version of numpy, it will be understood as (type, (1,)) / '(1,)type'.\n",
      "  _np_qint8 = np.dtype([(\"qint8\", np.int8, 1)])\n",
      "/home/michael/anaconda3/envs/tensorlow-gpu/lib/python3.7/site-packages/tensorflow/python/framework/dtypes.py:517: FutureWarning: Passing (type, 1) or '1type' as a synonym of type is deprecated; in a future version of numpy, it will be understood as (type, (1,)) / '(1,)type'.\n",
      "  _np_quint8 = np.dtype([(\"quint8\", np.uint8, 1)])\n",
      "/home/michael/anaconda3/envs/tensorlow-gpu/lib/python3.7/site-packages/tensorflow/python/framework/dtypes.py:518: FutureWarning: Passing (type, 1) or '1type' as a synonym of type is deprecated; in a future version of numpy, it will be understood as (type, (1,)) / '(1,)type'.\n",
      "  _np_qint16 = np.dtype([(\"qint16\", np.int16, 1)])\n",
      "/home/michael/anaconda3/envs/tensorlow-gpu/lib/python3.7/site-packages/tensorflow/python/framework/dtypes.py:519: FutureWarning: Passing (type, 1) or '1type' as a synonym of type is deprecated; in a future version of numpy, it will be understood as (type, (1,)) / '(1,)type'.\n",
      "  _np_quint16 = np.dtype([(\"quint16\", np.uint16, 1)])\n",
      "/home/michael/anaconda3/envs/tensorlow-gpu/lib/python3.7/site-packages/tensorflow/python/framework/dtypes.py:520: FutureWarning: Passing (type, 1) or '1type' as a synonym of type is deprecated; in a future version of numpy, it will be understood as (type, (1,)) / '(1,)type'.\n",
      "  _np_qint32 = np.dtype([(\"qint32\", np.int32, 1)])\n",
      "/home/michael/anaconda3/envs/tensorlow-gpu/lib/python3.7/site-packages/tensorflow/python/framework/dtypes.py:525: FutureWarning: Passing (type, 1) or '1type' as a synonym of type is deprecated; in a future version of numpy, it will be understood as (type, (1,)) / '(1,)type'.\n",
      "  np_resource = np.dtype([(\"resource\", np.ubyte, 1)])\n"
     ]
    }
   ],
   "source": [
    "import tensorflow as tf"
   ]
  },
  {
   "cell_type": "code",
   "execution_count": 2,
   "metadata": {},
   "outputs": [],
   "source": [
    "import tensorflow.keras as keras"
   ]
  },
  {
   "cell_type": "code",
   "execution_count": 3,
   "metadata": {},
   "outputs": [
    {
     "name": "stderr",
     "output_type": "stream",
     "text": [
      "Using TensorFlow backend.\n"
     ]
    }
   ],
   "source": [
    "#importing the necessary libraries\n",
    "import tensorflow as tf\n",
    "from keras.models import Sequential\n",
    "from keras.layers import Convolution2D\n",
    "from keras.layers import MaxPooling2D\n",
    "from keras.layers import Flatten\n",
    "from keras.layers import Dense\n",
    "from keras.layers import Dropout\n",
    "from keras.layers.normalization import BatchNormalization\n",
    "from keras import optimizers\n",
    "from keras.preprocessing.image import ImageDataGenerator\n",
    "from keras.callbacks import ModelCheckpoint\n",
    "from keras.preprocessing import image\n",
    "\n",
    "import numpy as np\n",
    "import matplotlib.pyplot as plt\n",
    "import seaborn as sns\n",
    "\n",
    "#models that we are bringing in\n"
   ]
  },
  {
   "cell_type": "code",
   "execution_count": 4,
   "metadata": {},
   "outputs": [
    {
     "data": {
      "text/plain": [
       "'1.14.0'"
      ]
     },
     "execution_count": 4,
     "metadata": {},
     "output_type": "execute_result"
    }
   ],
   "source": [
    "tf.__version__"
   ]
  },
  {
   "cell_type": "code",
   "execution_count": 5,
   "metadata": {},
   "outputs": [
    {
     "name": "stdout",
     "output_type": "stream",
     "text": [
      "Default GPU Device: /device:GPU:0\n"
     ]
    }
   ],
   "source": [
    "#test to check that tensorflow is using gpu\n",
    "import tensorflow as tf\n",
    "if tf.test.gpu_device_name():\n",
    "    print('Default GPU Device: {}'.format(tf.test.gpu_device_name()))\n",
    "else:\n",
    "   print(\"Please install GPU version of TF\")"
   ]
  },
  {
   "cell_type": "code",
   "execution_count": 5,
   "metadata": {
    "scrolled": true
   },
   "outputs": [
    {
     "name": "stdout",
     "output_type": "stream",
     "text": [
      "WARNING:tensorflow:From /home/michael/anaconda3/envs/tensorlow-gpu/lib/python3.7/site-packages/keras/backend/tensorflow_backend.py:74: The name tf.get_default_graph is deprecated. Please use tf.compat.v1.get_default_graph instead.\n",
      "\n",
      "WARNING:tensorflow:From /home/michael/anaconda3/envs/tensorlow-gpu/lib/python3.7/site-packages/keras/backend/tensorflow_backend.py:517: The name tf.placeholder is deprecated. Please use tf.compat.v1.placeholder instead.\n",
      "\n",
      "WARNING:tensorflow:From /home/michael/anaconda3/envs/tensorlow-gpu/lib/python3.7/site-packages/keras/backend/tensorflow_backend.py:4138: The name tf.random_uniform is deprecated. Please use tf.random.uniform instead.\n",
      "\n",
      "WARNING:tensorflow:From /home/michael/anaconda3/envs/tensorlow-gpu/lib/python3.7/site-packages/keras/backend/tensorflow_backend.py:3976: The name tf.nn.max_pool is deprecated. Please use tf.nn.max_pool2d instead.\n",
      "\n",
      "WARNING:tensorflow:From /home/michael/anaconda3/envs/tensorlow-gpu/lib/python3.7/site-packages/keras/backend/tensorflow_backend.py:174: The name tf.get_default_session is deprecated. Please use tf.compat.v1.get_default_session instead.\n",
      "\n",
      "WARNING:tensorflow:From /home/michael/anaconda3/envs/tensorlow-gpu/lib/python3.7/site-packages/keras/backend/tensorflow_backend.py:181: The name tf.ConfigProto is deprecated. Please use tf.compat.v1.ConfigProto instead.\n",
      "\n",
      "WARNING:tensorflow:From /home/michael/anaconda3/envs/tensorlow-gpu/lib/python3.7/site-packages/keras/backend/tensorflow_backend.py:1834: The name tf.nn.fused_batch_norm is deprecated. Please use tf.compat.v1.nn.fused_batch_norm instead.\n",
      "\n",
      "WARNING:tensorflow:From /home/michael/anaconda3/envs/tensorlow-gpu/lib/python3.7/site-packages/keras/backend/tensorflow_backend.py:3445: calling dropout (from tensorflow.python.ops.nn_ops) with keep_prob is deprecated and will be removed in a future version.\n",
      "Instructions for updating:\n",
      "Please use `rate` instead of `keep_prob`. Rate should be set to `rate = 1 - keep_prob`.\n",
      "_________________________________________________________________\n",
      "Layer (type)                 Output Shape              Param #   \n",
      "=================================================================\n",
      "conv2d_1 (Conv2D)            (None, 54, 54, 96)        34944     \n",
      "_________________________________________________________________\n",
      "max_pooling2d_1 (MaxPooling2 (None, 27, 27, 96)        0         \n",
      "_________________________________________________________________\n",
      "batch_normalization_1 (Batch (None, 27, 27, 96)        384       \n",
      "_________________________________________________________________\n",
      "conv2d_2 (Conv2D)            (None, 17, 17, 256)       2973952   \n",
      "_________________________________________________________________\n",
      "max_pooling2d_2 (MaxPooling2 (None, 8, 8, 256)         0         \n",
      "_________________________________________________________________\n",
      "batch_normalization_2 (Batch (None, 8, 8, 256)         1024      \n",
      "_________________________________________________________________\n",
      "conv2d_3 (Conv2D)            (None, 6, 6, 384)         885120    \n",
      "_________________________________________________________________\n",
      "batch_normalization_3 (Batch (None, 6, 6, 384)         1536      \n",
      "_________________________________________________________________\n",
      "conv2d_4 (Conv2D)            (None, 4, 4, 384)         1327488   \n",
      "_________________________________________________________________\n",
      "batch_normalization_4 (Batch (None, 4, 4, 384)         1536      \n",
      "_________________________________________________________________\n",
      "conv2d_5 (Conv2D)            (None, 2, 2, 256)         884992    \n",
      "_________________________________________________________________\n",
      "max_pooling2d_3 (MaxPooling2 (None, 1, 1, 256)         0         \n",
      "_________________________________________________________________\n",
      "batch_normalization_5 (Batch (None, 1, 1, 256)         1024      \n",
      "_________________________________________________________________\n",
      "flatten_1 (Flatten)          (None, 256)               0         \n",
      "_________________________________________________________________\n",
      "dense_1 (Dense)              (None, 4096)              1052672   \n",
      "_________________________________________________________________\n",
      "dropout_1 (Dropout)          (None, 4096)              0         \n",
      "_________________________________________________________________\n",
      "batch_normalization_6 (Batch (None, 4096)              16384     \n",
      "_________________________________________________________________\n",
      "dense_2 (Dense)              (None, 4096)              16781312  \n",
      "_________________________________________________________________\n",
      "dropout_2 (Dropout)          (None, 4096)              0         \n",
      "_________________________________________________________________\n",
      "batch_normalization_7 (Batch (None, 4096)              16384     \n",
      "_________________________________________________________________\n",
      "dense_3 (Dense)              (None, 1000)              4097000   \n",
      "_________________________________________________________________\n",
      "dropout_3 (Dropout)          (None, 1000)              0         \n",
      "_________________________________________________________________\n",
      "batch_normalization_8 (Batch (None, 1000)              4000      \n",
      "_________________________________________________________________\n",
      "dense_4 (Dense)              (None, 10)                10010     \n",
      "=================================================================\n",
      "Total params: 28,089,762\n",
      "Trainable params: 28,068,626\n",
      "Non-trainable params: 21,136\n",
      "_________________________________________________________________\n"
     ]
    }
   ],
   "source": [
    "#building the architecture\n",
    "#lets start with AlexNet\n",
    "classifier = Sequential()\n",
    "\n",
    "\n",
    "'''\n",
    "    template of the networks \n",
    "    classifier.add(Convolution2D(, , strides = (), padding = \"\", activation = \"\"))\n",
    "    classifier.add(MaxPooling2D(pool_size = (), strides = (), padding = ))\n",
    "    classifier.add(BatchNormalization())\n",
    "'''\n",
    "\n",
    "\n",
    "#first convolution set\n",
    "classifier.add(Convolution2D(96, 11, strides = (4,4), padding = 'valid', input_shape = (224,224,3), activation = 'relu'))\n",
    "classifier.add(MaxPooling2D(pool_size = (2,2), strides = (2,2), padding = \"valid\"))\n",
    "classifier.add(BatchNormalization())\n",
    "\n",
    "#second convolution set\n",
    "classifier.add(Convolution2D(256, 11, strides = (1,1), padding = \"valid\", activation = \"relu\"))\n",
    "classifier.add(MaxPooling2D(pool_size = (2,2), strides = (2,2), padding = \"valid\"))\n",
    "classifier.add(BatchNormalization())\n",
    "\n",
    "#third convolution set\n",
    "classifier.add(Convolution2D(384, 3, strides = (1,1), padding = \"valid\", activation = \"relu\"))\n",
    "classifier.add(BatchNormalization())\n",
    "\n",
    "#fourth convolution set\n",
    "classifier.add(Convolution2D(384, 3, strides = (1,1), padding = \"valid\", activation = \"relu\"))\n",
    "classifier.add(BatchNormalization())\n",
    "\n",
    "#fifth convolution set\n",
    "classifier.add(Convolution2D(256, 3, strides = (1,1), padding = \"valid\", activation = \"relu\"))\n",
    "classifier.add(MaxPooling2D(pool_size = (2,2), strides = (2,2), padding = \"valid\"))\n",
    "classifier.add(BatchNormalization())\n",
    "\n",
    "#flattening step\n",
    "classifier.add(Flatten())\n",
    "\n",
    "#dense network\n",
    "classifier.add(Dense(units = 4096, activation = \"relu\"))\n",
    "classifier.add(Dropout(0.4))\n",
    "classifier.add(BatchNormalization())\n",
    "\n",
    "classifier.add(Dense(units = 4096, activation = \"relu\"))\n",
    "classifier.add(Dropout(0.4))\n",
    "classifier.add(BatchNormalization())\n",
    "\n",
    "classifier.add(Dense(units = 1000, activation = 'relu'))\n",
    "classifier.add(Dropout(0.2))\n",
    "classifier.add(BatchNormalization())\n",
    "\n",
    "classifier.add(Dense(units = 10, activation = \"softmax\"))\n",
    "classifier.summary()"
   ]
  },
  {
   "cell_type": "code",
   "execution_count": 8,
   "metadata": {},
   "outputs": [],
   "source": [
    "classifier.load_weights('../models/best_weights.hdf5')"
   ]
  },
  {
   "cell_type": "code",
   "execution_count": null,
   "metadata": {
    "scrolled": false
   },
   "outputs": [
    {
     "name": "stdout",
     "output_type": "stream",
     "text": [
      "Found 18160 images belonging to 10 classes.\n",
      "Found 4585 images belonging to 10 classes.\n",
      "Epoch 1/75\n",
      "567/567 [==============================] - 403s 711ms/step - loss: 0.6262 - acc: 0.7879 - val_loss: 3.2260 - val_acc: 0.4561\n",
      "\n",
      "Epoch 00001: val_acc improved from -inf to 0.45608, saving model to ../models/best_weights.hdf5\n",
      "Epoch 2/75\n",
      "567/567 [==============================] - 385s 679ms/step - loss: 0.5032 - acc: 0.8255 - val_loss: 3.7864 - val_acc: 0.4696\n",
      "\n",
      "Epoch 00002: val_acc improved from 0.45608 to 0.46958, saving model to ../models/best_weights.hdf5\n",
      "Epoch 3/75\n",
      "567/567 [==============================] - 380s 670ms/step - loss: 0.4576 - acc: 0.8416 - val_loss: 3.9486 - val_acc: 0.4579\n",
      "\n",
      "Epoch 00003: val_acc did not improve from 0.46958\n",
      "Epoch 4/75\n",
      "567/567 [==============================] - 447s 789ms/step - loss: 0.4330 - acc: 0.8512 - val_loss: 3.4018 - val_acc: 0.4823\n",
      "\n",
      "Epoch 00004: val_acc improved from 0.46958 to 0.48232, saving model to ../models/best_weights.hdf5\n",
      "Epoch 5/75\n",
      "567/567 [==============================] - 397s 701ms/step - loss: 0.4148 - acc: 0.8557 - val_loss: 3.6783 - val_acc: 0.4814\n",
      "\n",
      "Epoch 00005: val_acc did not improve from 0.48232\n",
      "Epoch 6/75\n",
      "567/567 [==============================] - 394s 696ms/step - loss: 0.4059 - acc: 0.8600 - val_loss: 3.3471 - val_acc: 0.4792\n",
      "\n",
      "Epoch 00006: val_acc did not improve from 0.48232\n",
      "Epoch 7/75\n",
      "567/567 [==============================] - 386s 681ms/step - loss: 0.3923 - acc: 0.8635 - val_loss: 3.4943 - val_acc: 0.4836\n",
      "\n",
      "Epoch 00007: val_acc improved from 0.48232 to 0.48364, saving model to ../models/best_weights.hdf5\n",
      "Epoch 8/75\n",
      "567/567 [==============================] - 375s 661ms/step - loss: 0.3903 - acc: 0.8642 - val_loss: 3.8612 - val_acc: 0.4744\n",
      "\n",
      "Epoch 00008: val_acc did not improve from 0.48364\n",
      "Epoch 9/75\n",
      "567/567 [==============================] - 366s 645ms/step - loss: 0.3814 - acc: 0.8656 - val_loss: 3.6967 - val_acc: 0.4979\n",
      "\n",
      "Epoch 00009: val_acc improved from 0.48364 to 0.49791, saving model to ../models/best_weights.hdf5\n",
      "Epoch 10/75\n",
      "567/567 [==============================] - 370s 653ms/step - loss: 0.3745 - acc: 0.8684 - val_loss: 3.5443 - val_acc: 0.4889\n",
      "\n",
      "Epoch 00010: val_acc did not improve from 0.49791\n",
      "Epoch 11/75\n",
      "567/567 [==============================] - 478s 844ms/step - loss: 0.3700 - acc: 0.8721 - val_loss: 3.4948 - val_acc: 0.4966\n",
      "\n",
      "Epoch 00011: val_acc did not improve from 0.49791\n",
      "Epoch 12/75\n",
      "567/567 [==============================] - 467s 823ms/step - loss: 0.3670 - acc: 0.8714 - val_loss: 3.7421 - val_acc: 0.4872\n",
      "\n",
      "Epoch 00012: val_acc did not improve from 0.49791\n",
      "Epoch 13/75\n",
      "567/567 [==============================] - 371s 655ms/step - loss: 0.3565 - acc: 0.8741 - val_loss: 3.5719 - val_acc: 0.4988\n",
      "\n",
      "Epoch 00013: val_acc improved from 0.49791 to 0.49879, saving model to ../models/best_weights.hdf5\n",
      "Epoch 14/75\n",
      "567/567 [==============================] - 364s 643ms/step - loss: 0.3601 - acc: 0.8742 - val_loss: 3.5348 - val_acc: 0.4909\n",
      "\n",
      "Epoch 00014: val_acc did not improve from 0.49879\n",
      "Epoch 15/75\n",
      "567/567 [==============================] - 364s 643ms/step - loss: 0.3591 - acc: 0.8769 - val_loss: 3.5313 - val_acc: 0.4942\n",
      "\n",
      "Epoch 00015: val_acc did not improve from 0.49879\n",
      "Epoch 16/75\n",
      "567/567 [==============================] - 365s 644ms/step - loss: 0.3609 - acc: 0.8744 - val_loss: 3.3965 - val_acc: 0.5056\n",
      "\n",
      "Epoch 00016: val_acc improved from 0.49879 to 0.50560, saving model to ../models/best_weights.hdf5\n",
      "Epoch 17/75\n",
      "567/567 [==============================] - 392s 692ms/step - loss: 0.3559 - acc: 0.8785 - val_loss: 3.6171 - val_acc: 0.4953\n",
      "\n",
      "Epoch 00017: val_acc did not improve from 0.50560\n",
      "Epoch 18/75\n",
      "567/567 [==============================] - 375s 661ms/step - loss: 0.3555 - acc: 0.8764 - val_loss: 3.7393 - val_acc: 0.5069\n",
      "\n",
      "Epoch 00018: val_acc improved from 0.50560 to 0.50692, saving model to ../models/best_weights.hdf5\n",
      "Epoch 19/75\n",
      "567/567 [==============================] - 389s 686ms/step - loss: 0.3464 - acc: 0.8787 - val_loss: 3.6375 - val_acc: 0.5036\n",
      "\n",
      "Epoch 00019: val_acc did not improve from 0.50692\n",
      "Epoch 20/75\n",
      "567/567 [==============================] - 573s 1s/step - loss: 0.3425 - acc: 0.8793 - val_loss: 3.5634 - val_acc: 0.4909\n",
      "\n",
      "Epoch 00020: val_acc did not improve from 0.50692\n",
      "Epoch 21/75\n",
      "567/567 [==============================] - 367s 648ms/step - loss: 0.3428 - acc: 0.8811 - val_loss: 3.6973 - val_acc: 0.4977\n",
      "\n",
      "Epoch 00021: val_acc did not improve from 0.50692\n",
      "Epoch 22/75\n",
      "567/567 [==============================] - 367s 648ms/step - loss: 0.3482 - acc: 0.8799 - val_loss: 3.7258 - val_acc: 0.4992\n",
      "\n",
      "Epoch 00022: val_acc did not improve from 0.50692\n",
      "Epoch 23/75\n",
      "567/567 [==============================] - 408s 720ms/step - loss: 0.3280 - acc: 0.8851 - val_loss: 3.7849 - val_acc: 0.4999\n",
      "\n",
      "Epoch 00023: val_acc did not improve from 0.50692\n",
      "Epoch 24/75\n",
      "567/567 [==============================] - 377s 665ms/step - loss: 0.3409 - acc: 0.8814 - val_loss: 3.7830 - val_acc: 0.5005\n",
      "\n",
      "Epoch 00024: val_acc did not improve from 0.50692\n",
      "Epoch 25/75\n",
      "567/567 [==============================] - 367s 648ms/step - loss: 0.3341 - acc: 0.8853 - val_loss: 3.6010 - val_acc: 0.5063\n",
      "\n",
      "Epoch 00025: val_acc did not improve from 0.50692\n",
      "Epoch 26/75\n",
      "567/567 [==============================] - 370s 653ms/step - loss: 0.3363 - acc: 0.8843 - val_loss: 3.6107 - val_acc: 0.5124\n",
      "\n",
      "Epoch 00026: val_acc improved from 0.50692 to 0.51241, saving model to ../models/best_weights.hdf5\n",
      "Epoch 27/75\n",
      "567/567 [==============================] - 373s 658ms/step - loss: 0.3293 - acc: 0.8839 - val_loss: 3.7508 - val_acc: 0.5056\n",
      "\n",
      "Epoch 00027: val_acc did not improve from 0.51241\n",
      "Epoch 28/75\n",
      "567/567 [==============================] - 363s 640ms/step - loss: 0.3325 - acc: 0.8841 - val_loss: 3.6592 - val_acc: 0.5041\n",
      "\n",
      "Epoch 00028: val_acc did not improve from 0.51241\n",
      "Epoch 29/75\n",
      "567/567 [==============================] - 363s 641ms/step - loss: 0.3365 - acc: 0.8866 - val_loss: 3.8670 - val_acc: 0.5023\n",
      "\n",
      "Epoch 00029: val_acc did not improve from 0.51241\n",
      "Epoch 30/75\n",
      " 45/567 [=>............................] - ETA: 5:10 - loss: 0.3284 - acc: 0.8896"
     ]
    }
   ],
   "source": [
    "#now to  build a custom pipeline\n",
    "classifier.compile(optimizer = optimizers.SGD(lr=0.001, momentum = 0.9, decay = 0.005), loss=\"categorical_crossentropy\", metrics=['accuracy'])\n",
    "train_datagen = ImageDataGenerator(rescale= 1./255, shear_range=0.2, zoom_range=0.2, width_shift_range=0.2, height_shift_range=0.2, fill_mode='nearest')\n",
    "valid_datagen = ImageDataGenerator(rescale=1./255)\n",
    "\n",
    "batch_size = 32\n",
    "base_dir = \"../dataset\"\n",
    "\n",
    "training_set = train_datagen.flow_from_directory(base_dir+'/train', target_size=(224,224),batch_size = batch_size, class_mode='categorical')\n",
    "valid_set = valid_datagen.flow_from_directory(base_dir+'/valid', target_size=(224,224),batch_size = batch_size, class_mode='categorical')\n",
    "\n",
    "class_dict = training_set.class_indices\n",
    "li = list(class_dict)\n",
    "\n",
    "training_num = training_set.samples\n",
    "valid_num = valid_set.samples\n",
    "\n",
    "weight_path = '../models/best_weights.hdf5'\n",
    "checkpoint = ModelCheckpoint(weight_path, monitor='val_acc', verbose=1, save_best_only=True,save_weights_only=True, mode='max')\n",
    "callbacks_list = [checkpoint]\n",
    "\n",
    "history = classifier.fit_generator(training_set, steps_per_epoch=training_num//batch_size, validation_data=valid_set, epochs=75, validation_steps=valid_num//batch_size, callbacks=callbacks_list)"
   ]
  },
  {
   "cell_type": "code",
   "execution_count": 8,
   "metadata": {},
   "outputs": [],
   "source": [
    "#plotting the training progress\n",
    "sns.set()\n",
    "\n",
    "acc = history.history['acc']\n",
    "val_acc = history.history['val_acc']\n",
    "loss = history.history['loss']\n",
    "val_loss = history.history['val_loss']\n",
    "epochs = range(1, len(loss) + 1)\n",
    "\n",
    "#accuracy plot\n",
    "plt.plot(epochs. acc, color=\"green\", label = \"Training Accuracy\")\n",
    "plt.plot(epochs, val_acc, color = 'blue', label=\"Validation Accuracy\")\n",
    "plt.title(\"Training and Validation Accuracy\")\n",
    "plt.ylabel(\"Accuracy\")\n",
    "plt.xlabel(\"Epoch\")\n",
    "plt.legend()\n",
    "plt.figure()\n",
    "\n",
    "#loss plot\n",
    "plt.plot(epochs. loss, color=\"pink\", label = \"Training Loss\")\n",
    "plt.plot(epochs, val_loss, color = 'red', label=\"Validation Loss\")\n",
    "plt.title(\"Training and Validation Accuracy\")\n",
    "plt.ylabel(\"Loss\")\n",
    "plt.xlabel(\"Epoch\")\n",
    "plt.legend()\n",
    "plt.figure()\n",
    "\n"
   ]
  },
  {
   "cell_type": "code",
   "execution_count": null,
   "metadata": {},
   "outputs": [],
   "source": [
    "#pipeline for predicting new images\n",
    "image_path = '../dataset/valid/Tomato___Septoria_leaf_spot/f30ddd54-529d-4e4e-bca6-ddad3a68a690___Matt.S_CG 7858.JPG'\n",
    "new_img = image.load_img(image_path, target_size=(224, 224))\n",
    "img = image.img_to_array(new_img)"
   ]
  }
 ],
 "metadata": {
  "kernelspec": {
   "display_name": "Python 3",
   "language": "python",
   "name": "python3"
  },
  "language_info": {
   "codemirror_mode": {
    "name": "ipython",
    "version": 3
   },
   "file_extension": ".py",
   "mimetype": "text/x-python",
   "name": "python",
   "nbconvert_exporter": "python",
   "pygments_lexer": "ipython3",
   "version": "3.7.4"
  }
 },
 "nbformat": 4,
 "nbformat_minor": 2
}
